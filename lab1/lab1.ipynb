{
 "cells": [
  {
   "cell_type": "code",
   "execution_count": 9,
   "id": "b005aa05",
   "metadata": {},
   "outputs": [
    {
     "name": "stdout",
     "output_type": "stream",
     "text": [
      "Sekvens: seq1\n",
      "Sekvens: seq2\n",
      "Sekvens: seq3\n",
      "Sekvens: seq4\n"
     ]
    }
   ],
   "source": [
    "import matplotlib.pyplot as plt # igo\n",
    "\n",
    "# Läs filen\n",
    "fil = open('dna_raw.txt', 'r')# Öppna filen\n",
    "rader = fil.readlines()# Läs alla rader\n",
    "# Stäng filen\n",
    "fil.close()\n",
    "\n",
    "# Spara dna-sekvenser\n",
    "sekvenser = {}\n",
    "namn = \"\"\n",
    "\n",
    "# Läs raderna\n",
    "for rad in rader:\n",
    "    rad = rad.strip()# Ta bort mellanslag och radbrytningar\n",
    "    if rad.startswith('>'):#  om namnet börjar med '>'\n",
    "        namn = rad[1:]# Ta bort '>'\n",
    "        sekvenser[namn] = \"\" \n",
    "    # DNA-rad\n",
    "    else:#  om det är en DNA-rad \n",
    "        sekvenser[namn] += rad.upper()# Lägg till i sekvensen\n",
    "\n",
    " # Skriv ut sekvenserna \n",
    "for namn, dna in sekvenser.items(): #  för varje namn och dna i sekvenser\n",
    "    print(\"Sekvens:\", namn)\n",
    "\n",
    "# Räkna bokstäver i sekvensen\n",
    "    a = dna.count('A')\n",
    "    t = dna.count('T')\n",
    "    c = dna.count('C')\n",
    "    g = dna.count('G')"
   ]
  }
 ],
 "metadata": {
  "kernelspec": {
   "display_name": "Python 3",
   "language": "python",
   "name": "python3"
  },
  "language_info": {
   "codemirror_mode": {
    "name": "ipython",
    "version": 3
   },
   "file_extension": ".py",
   "mimetype": "text/x-python",
   "name": "python",
   "nbconvert_exporter": "python",
   "pygments_lexer": "ipython3",
   "version": "3.12.6"
  }
 },
 "nbformat": 4,
 "nbformat_minor": 5
}
