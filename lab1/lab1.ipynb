{
 "cells": [
  {
   "cell_type": "code",
   "execution_count": 4,
   "id": "b005aa05",
   "metadata": {},
   "outputs": [],
   "source": [
    "import matplotlib.pyplot as plt\n",
    "\n",
    "# Läs filen\n",
    "fil = open('dna_raw.txt', 'r')# Öppna filen\n",
    "rader = fil.readlines()# Läs alla rader\n",
    "# Stäng filen\n",
    "fil.close()\n",
    "\n",
    "# Spara dna-sekvenser\n",
    "sekvenser = {}\n",
    "namn = \"\"\n",
    "\n",
    "# läs raderna och spara i en dictionary\n",
    "for rad in rader:\n",
    "    rad = rad.strip()  # Ta bort eventuella extra mellanslag och radbrytningar\n",
    "    if rad.startswith('>'):\n",
    "        namn = rad[1:]  # Ta bort '>' och spara namnet\n",
    "        sekvenser[namn] = \"\"  # Initiera en tom sträng för sekvensen\n",
    "    else:\n",
    "        sekvenser[namn] += rad  # Lägg till raden till den aktuella sekvensen"
   ]
  }
 ],
 "metadata": {
  "kernelspec": {
   "display_name": "Python 3",
   "language": "python",
   "name": "python3"
  },
  "language_info": {
   "codemirror_mode": {
    "name": "ipython",
    "version": 3
   },
   "file_extension": ".py",
   "mimetype": "text/x-python",
   "name": "python",
   "nbconvert_exporter": "python",
   "pygments_lexer": "ipython3",
   "version": "3.12.6"
  }
 },
 "nbformat": 4,
 "nbformat_minor": 5
}
